{
 "cells": [
  {
   "cell_type": "markdown",
   "id": "70f3e606",
   "metadata": {},
   "source": [
    "# Data Sciences Tools and Ecosystem"
   ]
  },
  {
   "cell_type": "markdown",
   "id": "78dc9ad7",
   "metadata": {},
   "source": [
    "## In this notebook, Data Science Tools and Ecosystem are summarized"
   ]
  },
  {
   "cell_type": "markdown",
   "id": "bb6a46aa",
   "metadata": {},
   "source": [
    "## **Objectives:**\n",
    "- List popular language that Data Scientists use\n",
    "- List commonly used libraries used by Data Scientists\n",
    "- Display a table of tools that used by Data Scientists\n",
    "- Demonstrate a few examples of evaluating arithmetic expressions in Python"
   ]
  },
  {
   "cell_type": "markdown",
   "id": "22803572",
   "metadata": {},
   "source": [
    "### Some of the popular languages that Data Scientists use are:\n",
    "1. Python\n",
    "2. R\n",
    "3. SQL"
   ]
  },
  {
   "cell_type": "markdown",
   "id": "76e61528",
   "metadata": {},
   "source": [
    "### Some of the commonly used libraries used by Data Scientists include:\n",
    "1. Pandas\n",
    "2. NumPy\n",
    "3. Plotly"
   ]
  },
  {
   "cell_type": "markdown",
   "id": "42684450",
   "metadata": {},
   "source": [
    "| Data Science Tools |\n",
    "|:------------------:|\n",
    "|    Apache Spark    |\n",
    "|    Tensor Flow     |\n",
    "|    Apache Hadoop   |"
   ]
  },
  {
   "cell_type": "markdown",
   "id": "b71aae57",
   "metadata": {},
   "source": [
    "### Below are a few examples of evaluating arithmetic expressions in Python"
   ]
  },
  {
   "cell_type": "code",
   "execution_count": 8,
   "id": "e2161f79",
   "metadata": {},
   "outputs": [
    {
     "data": {
      "text/plain": [
       "17"
      ]
     },
     "execution_count": 8,
     "metadata": {},
     "output_type": "execute_result"
    }
   ],
   "source": [
    "(3*4)+5\n",
    "# This is a simple arithmetic expression to multiply then add integers"
   ]
  },
  {
   "cell_type": "code",
   "execution_count": 9,
   "id": "c8f16972",
   "metadata": {},
   "outputs": [
    {
     "name": "stdout",
     "output_type": "stream",
     "text": [
      "enter time in minutes200\n",
      "hours= 3\n",
      "minutes= 20\n"
     ]
    }
   ],
   "source": [
    "# This will convert 200 minutes to hours by dividing by 60\n",
    "min = int(input(\"enter time in minutes\"))\n",
    "h = min//60\n",
    "m = min%60\n",
    "print(\"hours=\",h)\n",
    "print(\"minutes=\",m)"
   ]
  },
  {
   "cell_type": "markdown",
   "id": "a708e3a1",
   "metadata": {},
   "source": [
    "## Author \n",
    "Ethan "
   ]
  }
 ],
 "metadata": {
  "kernelspec": {
   "display_name": "Python 3 (ipykernel)",
   "language": "python",
   "name": "python3"
  },
  "language_info": {
   "codemirror_mode": {
    "name": "ipython",
    "version": 3
   },
   "file_extension": ".py",
   "mimetype": "text/x-python",
   "name": "python",
   "nbconvert_exporter": "python",
   "pygments_lexer": "ipython3",
   "version": "3.11.5"
  }
 },
 "nbformat": 4,
 "nbformat_minor": 5
}
